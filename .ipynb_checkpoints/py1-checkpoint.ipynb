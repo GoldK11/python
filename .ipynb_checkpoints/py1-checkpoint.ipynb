{
 "cells": [
  {
   "cell_type": "code",
   "execution_count": 1,
   "metadata": {},
   "outputs": [
    {
     "data": {
      "text/plain": [
       "3.0"
      ]
     },
     "execution_count": 1,
     "metadata": {},
     "output_type": "execute_result"
    }
   ],
   "source": [
    "# Type casting\n",
    "float(3)"
   ]
  },
  {
   "cell_type": "code",
   "execution_count": 2,
   "metadata": {},
   "outputs": [
    {
     "data": {
      "text/plain": [
       "3"
      ]
     },
     "execution_count": 2,
     "metadata": {},
     "output_type": "execute_result"
    }
   ],
   "source": [
    "int(3.8)"
   ]
  },
  {
   "cell_type": "code",
   "execution_count": 3,
   "metadata": {},
   "outputs": [
    {
     "data": {
      "text/plain": [
       "'100'"
      ]
     },
     "execution_count": 3,
     "metadata": {},
     "output_type": "execute_result"
    }
   ],
   "source": [
    "str(100)"
   ]
  },
  {
   "cell_type": "code",
   "execution_count": 4,
   "metadata": {},
   "outputs": [
    {
     "data": {
      "text/plain": [
       "100"
      ]
     },
     "execution_count": 4,
     "metadata": {},
     "output_type": "execute_result"
    }
   ],
   "source": [
    "int('100')"
   ]
  },
  {
   "cell_type": "code",
   "execution_count": 5,
   "metadata": {},
   "outputs": [
    {
     "name": "stdout",
     "output_type": "stream",
     "text": [
      "What is your name? \n",
      "my name is \n"
     ]
    }
   ],
   "source": [
    "#user input\n",
    "\n",
    "name=input('What is your name? ')\n",
    "print('my name is',name)"
   ]
  },
  {
   "cell_type": "code",
   "execution_count": 7,
   "metadata": {},
   "outputs": [
    {
     "name": "stdout",
     "output_type": "stream",
     "text": [
      "How old are you? 22\n",
      "You can live 78 years more.\n"
     ]
    }
   ],
   "source": [
    "#user input eval()\n",
    "\n",
    "age=eval(input(\"How old are you? \"))\n",
    "die_age = 100 - age\n",
    "print('You can live',die_age,'years more.')"
   ]
  },
  {
   "cell_type": "code",
   "execution_count": 8,
   "metadata": {},
   "outputs": [
    {
     "name": "stdout",
     "output_type": "stream",
     "text": [
      "I have a     apple\n",
      "I have 55 pineapples\n",
      "It is 90%.\n",
      "Unicode 90 is Z\n"
     ]
    }
   ],
   "source": [
    "# Formatting\n",
    "apple='apple'\n",
    "pineapple='pineapple'\n",
    "percent=90\n",
    "num = 55\n",
    "print('I have a %9s' % (apple))\n",
    "print('I have %d %ss' % (num, pineapple))\n",
    "print('It is %d%%.' %(percent))\n",
    "print('Unicode 90 is %c' %(90))"
   ]
  },
  {
   "cell_type": "code",
   "execution_count": 9,
   "metadata": {},
   "outputs": [
    {
     "data": {
      "text/plain": [
       "6"
      ]
     },
     "execution_count": 9,
     "metadata": {},
     "output_type": "execute_result"
    }
   ],
   "source": [
    "#What is sting?\n",
    "\n",
    "string1='python'\n",
    "len(string1)"
   ]
  },
  {
   "cell_type": "code",
   "execution_count": 10,
   "metadata": {},
   "outputs": [
    {
     "name": "stdout",
     "output_type": "stream",
     "text": [
      "tho ph nohtyp python\n"
     ]
    }
   ],
   "source": [
    "#index of sting\n",
    "\n",
    "string1='python'\n",
    "a=string1[2:5]\n",
    "b=string1[::3]\n",
    "c=string1[::-1]\n",
    "d=string1[::]\n",
    "print(a,b,c,d)"
   ]
  },
  {
   "cell_type": "code",
   "execution_count": 11,
   "metadata": {},
   "outputs": [
    {
     "name": "stdout",
     "output_type": "stream",
     "text": [
      "1\n",
      "15\n"
     ]
    }
   ],
   "source": [
    "# count and find\n",
    "\n",
    "sentence = 'Python is easy programming language.'\n",
    "c=sentence.count('p')\n",
    "f=sentence.find('p')\n",
    "print(c)\n",
    "print(f)"
   ]
  },
  {
   "cell_type": "code",
   "execution_count": 12,
   "metadata": {},
   "outputs": [
    {
     "name": "stdout",
     "output_type": "stream",
     "text": [
      "p^y^t^h^o^n\n"
     ]
    }
   ],
   "source": [
    "# join and split\n",
    "\n",
    "string2='python'\n",
    "comma='^'\n",
    "commad=comma.join(string2)\n",
    "print(commad)"
   ]
  },
  {
   "cell_type": "code",
   "execution_count": 13,
   "metadata": {},
   "outputs": [
    {
     "data": {
      "text/plain": [
       "['p', 'y', 't', 'h', 'o', 'n']"
      ]
     },
     "execution_count": 13,
     "metadata": {},
     "output_type": "execute_result"
    }
   ],
   "source": [
    "commad.split('^')"
   ]
  },
  {
   "cell_type": "code",
   "execution_count": 14,
   "metadata": {},
   "outputs": [
    {
     "name": "stdout",
     "output_type": "stream",
     "text": [
      "['Jenny', '010-1234-5678', 'England'] ['010', '1234', '5678']\n"
     ]
    }
   ],
   "source": [
    "personal_info = 'Jenny 010-1234-5678 England'\n",
    "splited_info = personal_info.split(' ')\n",
    "phone = splited_info[1].split('-')\n",
    "print(splited_info,phone)"
   ]
  },
  {
   "cell_type": "code",
   "execution_count": 15,
   "metadata": {},
   "outputs": [
    {
     "name": "stdout",
     "output_type": "stream",
     "text": [
      "C++ is easy programming language.\n",
      "Python is easy programming language.\n"
     ]
    }
   ],
   "source": [
    "#replace\n",
    "new_sentence = sentence.replace('Python','C++')\n",
    "print(new_sentence)\n",
    "print(sentence)"
   ]
  },
  {
   "cell_type": "code",
   "execution_count": 16,
   "metadata": {},
   "outputs": [
    {
     "name": "stdout",
     "output_type": "stream",
     "text": [
      "['Jenny']\n"
     ]
    }
   ],
   "source": [
    "# list\n",
    "l=[]\n",
    "l.append('Jenny')\n",
    "print(l)"
   ]
  },
  {
   "cell_type": "code",
   "execution_count": 17,
   "metadata": {},
   "outputs": [
    {
     "name": "stdout",
     "output_type": "stream",
     "text": [
      "['Jenny', 'Fiora']\n"
     ]
    }
   ],
   "source": [
    "l.append('Fiora')\n",
    "print(l)"
   ]
  },
  {
   "cell_type": "code",
   "execution_count": 18,
   "metadata": {},
   "outputs": [
    {
     "name": "stdout",
     "output_type": "stream",
     "text": [
      "['Jenny', 'Fiora', 'Jakie']\n"
     ]
    }
   ],
   "source": [
    "l.append('Jakie')\n",
    "print(l)"
   ]
  },
  {
   "cell_type": "code",
   "execution_count": 19,
   "metadata": {},
   "outputs": [
    {
     "name": "stdout",
     "output_type": "stream",
     "text": [
      "['Jenny', 'Hart', 'Fiora', 'Jakie']\n"
     ]
    }
   ],
   "source": [
    "l.insert(1,'Hart')\n",
    "print(l)"
   ]
  },
  {
   "cell_type": "code",
   "execution_count": 20,
   "metadata": {},
   "outputs": [
    {
     "name": "stdout",
     "output_type": "stream",
     "text": [
      "['Hart', 'Fiora', 'Jakie']\n",
      "Jenny\n"
     ]
    }
   ],
   "source": [
    "favorite=l.pop(0)\n",
    "print(l)\n",
    "print(favorite)"
   ]
  },
  {
   "cell_type": "code",
   "execution_count": 21,
   "metadata": {},
   "outputs": [
    {
     "name": "stdout",
     "output_type": "stream",
     "text": [
      "['Fiora', 'Jakie']\n"
     ]
    }
   ],
   "source": [
    "l.remove('Hart')\n",
    "print(l)"
   ]
  },
  {
   "cell_type": "code",
   "execution_count": 22,
   "metadata": {},
   "outputs": [
    {
     "data": {
      "text/plain": [
       "[1, 2, 3, 4, 5, 6, 7, 8]"
      ]
     },
     "execution_count": 22,
     "metadata": {},
     "output_type": "execute_result"
    }
   ],
   "source": [
    "l2=[1,2,3,4]\n",
    "l2=l2+[5,6]\n",
    "l2.extend([7,8])\n",
    "l2"
   ]
  },
  {
   "cell_type": "code",
   "execution_count": 23,
   "metadata": {},
   "outputs": [
    {
     "data": {
      "text/plain": [
       "(1, 2, 3, 4)"
      ]
     },
     "execution_count": 23,
     "metadata": {},
     "output_type": "execute_result"
    }
   ],
   "source": [
    "#Tuple\n",
    "tuple1=(1,2,3,4)\n",
    "tuple1"
   ]
  },
  {
   "cell_type": "code",
   "execution_count": 24,
   "metadata": {},
   "outputs": [
    {
     "name": "stdout",
     "output_type": "stream",
     "text": [
      "Enter your age: 22\n",
      "You are not so old\n"
     ]
    }
   ],
   "source": [
    "#condition\n",
    "age=int(input('Enter your age: '))\n",
    "if age<20:\n",
    "    print('You are teenager.')\n",
    "elif age<30:\n",
    "    print('You are not so old')\n",
    "else:\n",
    "    print('You are old')"
   ]
  },
  {
   "cell_type": "code",
   "execution_count": 25,
   "metadata": {},
   "outputs": [
    {
     "name": "stdout",
     "output_type": "stream",
     "text": [
      "python\n",
      "java\n",
      "golang\n",
      "C++\n"
     ]
    }
   ],
   "source": [
    "# for while\n",
    "l=['python','java','golang','C++']\n",
    "for i in l:\n",
    "    print(i)"
   ]
  },
  {
   "cell_type": "code",
   "execution_count": 35,
   "metadata": {
    "scrolled": true
   },
   "outputs": [
    {
     "name": "stdout",
     "output_type": "stream",
     "text": [
      "Insert coin plz: 5\n",
      "Guess the number: 50\n",
      "No wrong answer.\n",
      "answer is lower than you guessed.\n",
      "Guess it again.25\n",
      "No wrong answer.\n",
      "answer is higher than you guessed.\n",
      "Guess it again.37\n",
      "No wrong answer.\n",
      "answer is lower than you guessed.\n",
      "Guess it again.30\n",
      "No wrong answer.\n",
      "answer is higher than you guessed.\n",
      "Guess it again.34\n",
      "You spent all coin. The answer was 32\n"
     ]
    }
   ],
   "source": [
    "# numgess\n",
    "\n",
    "import random\n",
    "answer = random.randint(1,100)\n",
    "\n",
    "c = int(input('Insert coin plz: '))\n",
    "guess = int(input('Guess the number: '))\n",
    "correct=False\n",
    "\n",
    "for i in range(1,c):\n",
    "    if answer == guess:\n",
    "        print('Wow correct answer.')\n",
    "        correct=True\n",
    "        break\n",
    "    else:\n",
    "        print('No wrong answer.')\n",
    "        if answer < guess:\n",
    "            print('answer is lower than you guessed.')\n",
    "        else:\n",
    "            print('answer is higher than you guessed.')\n",
    "        guess = int(input('Guess it again.'))    \n",
    "\n",
    "if correct:\n",
    "    print('Good job')\n",
    "else:\n",
    "    print('You spent all coin. The answer was %d'%(answer))\n",
    "    \n",
    "\n"
   ]
  },
  {
   "cell_type": "code",
   "execution_count": 36,
   "metadata": {
    "scrolled": true
   },
   "outputs": [
    {
     "name": "stdout",
     "output_type": "stream",
     "text": [
      "What's your name? kim\n",
      "Hi kim\n",
      "What's your name? jin\n",
      "Hi jin\n",
      "What's your name? GoldK\n",
      "Hi GoldK\n"
     ]
    }
   ],
   "source": [
    "name=''\n",
    "while name != 'GoldK':\n",
    "    name=input('What\\'s your name? ')\n",
    "    print('Hi %s'%(name))"
   ]
  },
  {
   "cell_type": "code",
   "execution_count": 44,
   "metadata": {},
   "outputs": [
    {
     "name": "stdout",
     "output_type": "stream",
     "text": [
      "Enter the number plz: 55\n",
      "Buzz\n"
     ]
    }
   ],
   "source": [
    "# 3배수 fizz, 5배수 buzz, 15배수 fizzbuzz\n",
    "\n",
    "num=int(input('Enter the number plz: '))\n",
    "\n",
    "if num%15==0:\n",
    "    print('Fizzbuzz')\n",
    "elif num%3==0:\n",
    "    print('Fizz')\n",
    "elif num%5==0:\n",
    "    print('Buzz')\n",
    "else:\n",
    "    print(num)\n"
   ]
  },
  {
   "cell_type": "code",
   "execution_count": 45,
   "metadata": {},
   "outputs": [
    {
     "name": "stdout",
     "output_type": "stream",
     "text": [
      "1\n",
      "2\n",
      "Fizz\n",
      "4\n",
      "Buzz\n",
      "Fizz\n",
      "7\n",
      "8\n",
      "Fizz\n",
      "Buzz\n",
      "11\n",
      "Fizz\n",
      "13\n",
      "14\n",
      "Fizzbuzz\n",
      "16\n",
      "17\n",
      "Fizz\n",
      "19\n",
      "Buzz\n",
      "Fizz\n",
      "22\n",
      "23\n",
      "Fizz\n",
      "Buzz\n",
      "26\n",
      "Fizz\n",
      "28\n",
      "29\n",
      "Fizzbuzz\n",
      "31\n",
      "32\n",
      "Fizz\n",
      "34\n",
      "Buzz\n",
      "Fizz\n",
      "37\n",
      "38\n",
      "Fizz\n",
      "Buzz\n",
      "41\n",
      "Fizz\n",
      "43\n",
      "44\n",
      "Fizzbuzz\n",
      "46\n",
      "47\n",
      "Fizz\n",
      "49\n",
      "Buzz\n",
      "Fizz\n",
      "52\n",
      "53\n",
      "Fizz\n",
      "Buzz\n",
      "56\n",
      "Fizz\n",
      "58\n",
      "59\n",
      "Fizzbuzz\n",
      "61\n",
      "62\n",
      "Fizz\n",
      "64\n",
      "Buzz\n",
      "Fizz\n",
      "67\n",
      "68\n",
      "Fizz\n",
      "Buzz\n",
      "71\n",
      "Fizz\n",
      "73\n",
      "74\n",
      "Fizzbuzz\n",
      "76\n",
      "77\n",
      "Fizz\n",
      "79\n",
      "Buzz\n",
      "Fizz\n",
      "82\n",
      "83\n",
      "Fizz\n",
      "Buzz\n",
      "86\n",
      "Fizz\n",
      "88\n",
      "89\n",
      "Fizzbuzz\n",
      "91\n",
      "92\n",
      "Fizz\n",
      "94\n",
      "Buzz\n",
      "Fizz\n",
      "97\n",
      "98\n",
      "Fizz\n",
      "Buzz\n"
     ]
    }
   ],
   "source": [
    "for num in range(1,100+1):\n",
    "    if num%15==0:\n",
    "        print('Fizzbuzz')\n",
    "    elif num%3==0:\n",
    "        print('Fizz')\n",
    "    elif num%5==0:\n",
    "        print('Buzz')\n",
    "    else:\n",
    "        print(num)\n",
    "        \n",
    "# 이 코드를 어떻게 한줄로 만들까?"
   ]
  },
  {
   "cell_type": "code",
   "execution_count": 7,
   "metadata": {},
   "outputs": [
    {
     "name": "stdout",
     "output_type": "stream",
     "text": [
      "The percent of stay is 347\n",
      "The percent of move is 653\n"
     ]
    }
   ],
   "source": [
    "# 숙제 monty hall problem\n",
    "# 염소(0) 2, 차(1) 1\n",
    "\n",
    "stay=0\n",
    "move=0\n",
    "\n",
    "import random\n",
    "\n",
    "for i in range(1000):\n",
    "    doors=[1,0,0]\n",
    "    random.shuffle(doors)\n",
    "\n",
    "    choice = random.randrange(3)\n",
    "    \n",
    "    user = doors[choice]\n",
    "    \n",
    "    if user == 1:\n",
    "        stay = stay + 1\n",
    "    else:\n",
    "        move = move + 1\n",
    "\n",
    "print('The percent of stay is %d'%(stay))\n",
    "print('The percent of move is %d'%(move))\n"
   ]
  }
 ],
 "metadata": {
  "kernelspec": {
   "display_name": "Python 3",
   "language": "python",
   "name": "python3"
  },
  "language_info": {
   "codemirror_mode": {
    "name": "ipython",
    "version": 3
   },
   "file_extension": ".py",
   "mimetype": "text/x-python",
   "name": "python",
   "nbconvert_exporter": "python",
   "pygments_lexer": "ipython3",
   "version": "3.6.2"
  }
 },
 "nbformat": 4,
 "nbformat_minor": 2
}
