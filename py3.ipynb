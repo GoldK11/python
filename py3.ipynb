{
 "cells": [
  {
   "cell_type": "code",
   "execution_count": 11,
   "metadata": {},
   "outputs": [
    {
     "name": "stdout",
     "output_type": "stream",
     "text": [
      "89\n",
      "77\n",
      "166\n"
     ]
    }
   ],
   "source": [
    "# function\n",
    "# awesum 한 sum fucntion 만들기\n",
    "\n",
    "def awe_sum(a,b):\n",
    "    result=0\n",
    "    result = a + b\n",
    "    return result\n",
    "\n",
    "print(awe_sum(int(input()),int(input())))\n"
   ]
  },
  {
   "cell_type": "code",
   "execution_count": 15,
   "metadata": {},
   "outputs": [
    {
     "data": {
      "text/plain": [
       "'My pretty little Galway Girl'"
      ]
     },
     "execution_count": 15,
     "metadata": {},
     "output_type": "execute_result"
    }
   ],
   "source": [
    "# input 이 없는 함수\n",
    "\n",
    "def print_hello():\n",
    "    return 'My pretty little Galway Girl'\n",
    "print_hello()"
   ]
  },
  {
   "cell_type": "code",
   "execution_count": 17,
   "metadata": {},
   "outputs": [
    {
     "name": "stdout",
     "output_type": "stream",
     "text": [
      "This is Function without return.\n"
     ]
    }
   ],
   "source": [
    "# return이 없는 함수\n",
    "\n",
    "def func_wo_return(a):\n",
    "    print('This is',a,'without return.')\n",
    "func_wo_return('Function')\n",
    "    "
   ]
  },
  {
   "cell_type": "code",
   "execution_count": 2,
   "metadata": {},
   "outputs": [
    {
     "name": "stdout",
     "output_type": "stream",
     "text": [
      "78\n"
     ]
    },
    {
     "data": {
      "text/plain": [
       "(78, 88)"
      ]
     },
     "execution_count": 2,
     "metadata": {},
     "output_type": "execute_result"
    }
   ],
   "source": [
    "# multiple return\n",
    "\n",
    "def mul_return(a):\n",
    "    b=a+10\n",
    "    return(a,b)\n",
    "\n",
    "mul_return(int(input()))"
   ]
  },
  {
   "cell_type": "code",
   "execution_count": 11,
   "metadata": {},
   "outputs": [
    {
     "name": "stdout",
     "output_type": "stream",
     "text": [
      "admin\n",
      "Invalid id: admmin\n"
     ]
    }
   ],
   "source": [
    "# return skill\n",
    "\n",
    "def id_check(id):\n",
    "    if id =='admin':\n",
    "        print('Invalid id: admmin')\n",
    "        return \n",
    "    # 여기서 return이 없으면 if에 걸리고도 함수가 끝나지 않아서 뒤에것도 출력해버린다\n",
    "    print('Valid id:',id)\n",
    "    \n",
    "id_check(input())"
   ]
  },
  {
   "cell_type": "code",
   "execution_count": 15,
   "metadata": {},
   "outputs": [
    {
     "name": "stdout",
     "output_type": "stream",
     "text": [
      "HI Soorim\n",
      "You are not Fool\n"
     ]
    }
   ],
   "source": [
    "#parameter w/ initialize (초기값이 정해진 파라미터)\n",
    "\n",
    "def say_hello(name='Fool',nick='True'):\n",
    "    print('HI', name)\n",
    "    if nick==True:\n",
    "        print('You are Fool')\n",
    "    else:\n",
    "        print('You are not Fool')\n",
    "say_hello('Soorim',False)"
   ]
  },
  {
   "cell_type": "code",
   "execution_count": 23,
   "metadata": {},
   "outputs": [
    {
     "data": {
      "text/plain": [
       "94"
      ]
     },
     "execution_count": 23,
     "metadata": {},
     "output_type": "execute_result"
    }
   ],
   "source": [
    "# arguments *\n",
    "#list의 형태\n",
    "\n",
    "def mul_sum(*nums):\n",
    "    sum=0\n",
    "    for i in nums:\n",
    "        sum=sum+i\n",
    "    return sum\n",
    "\n",
    "mul_sum(4,56,7,23,4)\n"
   ]
  },
  {
   "cell_type": "code",
   "execution_count": 33,
   "metadata": {},
   "outputs": [
    {
     "name": "stdout",
     "output_type": "stream",
     "text": [
      "{'a': 10, 'b': 'google', 'c': 'fastcampus'}\n"
     ]
    }
   ],
   "source": [
    "#keyword arguments * 이 두개\n",
    "#dicrionary  형태로 출력된다\n",
    "\n",
    "def show_keyarg(**kwarg):\n",
    "    print(str(kwarg))\n",
    "    \n",
    "show_keyarg(a=10,b='google',c='fastcampus')"
   ]
  },
  {
   "cell_type": "code",
   "execution_count": 34,
   "metadata": {},
   "outputs": [
    {
     "data": {
      "text/plain": [
       "'https://www.naver.com:8080?ie=utf-8&query=덩케르크&'"
      ]
     },
     "execution_count": 34,
     "metadata": {},
     "output_type": "execute_result"
    }
   ],
   "source": [
    "def kwar_url(server,port,**query):\n",
    "    url='https://'+server+':'+port+'?'\n",
    "    for key in query.keys():\n",
    "        url+= key+'='+query[key]+'&'\n",
    "    return url\n",
    "kwar_url('www.naver.com','8080',ie='utf-8',query='덩케르크')\n",
    "        "
   ]
  },
  {
   "cell_type": "code",
   "execution_count": 38,
   "metadata": {},
   "outputs": [
    {
     "data": {
      "text/plain": [
       "'Helloworld'"
      ]
     },
     "execution_count": 38,
     "metadata": {},
     "output_type": "execute_result"
    }
   ],
   "source": [
    "a='Hello'\n",
    "def glob_test(a):\n",
    "    a = a+'world'\n",
    "    return a\n",
    "\n",
    "glob_test(a)\n"
   ]
  },
  {
   "cell_type": "code",
   "execution_count": 39,
   "metadata": {},
   "outputs": [
    {
     "data": {
      "text/plain": [
       "'Helloworld'"
      ]
     },
     "execution_count": 39,
     "metadata": {},
     "output_type": "execute_result"
    }
   ],
   "source": [
    "a='Hello'\n",
    "def glob_test(x):\n",
    "    x=x+'world'\n",
    "    return x\n",
    "\n",
    "glob_test(a)\n"
   ]
  },
  {
   "cell_type": "code",
   "execution_count": 75,
   "metadata": {},
   "outputs": [
    {
     "name": "stdout",
     "output_type": "stream",
     "text": [
      "Enter the year: 600\n"
     ]
    },
    {
     "data": {
      "text/plain": [
       "'평년입니다'"
      ]
     },
     "execution_count": 75,
     "metadata": {},
     "output_type": "execute_result"
    }
   ],
   "source": [
    "# leap year \n",
    "\n",
    "a=int(input('Enter the year: '))\n",
    "\n",
    "def is_leap(y):\n",
    "    result='윤년입니다'*(y%4==0 and not y%100==0 or y%400==0) or '평년입니다' \n",
    "    return result\n",
    "\n",
    "is_leap(a)\n"
   ]
  },
  {
   "cell_type": "code",
   "execution_count": 84,
   "metadata": {},
   "outputs": [
    {
     "name": "stdout",
     "output_type": "stream",
     "text": [
      "Enter the year: 2000\n"
     ]
    },
    {
     "data": {
      "text/plain": [
       "True"
      ]
     },
     "execution_count": 84,
     "metadata": {},
     "output_type": "execute_result"
    }
   ],
   "source": [
    "y=int(input('Enter the year: '))\n",
    "\n",
    "def is_leap(y):\n",
    "    leap=False\n",
    "    if y%4==0 and y%100!=0 or y%400==0:\n",
    "        leap=True\n",
    "    return leap\n",
    "\n",
    "is_leap(y)\n",
    "    "
   ]
  },
  {
   "cell_type": "code",
   "execution_count": 96,
   "metadata": {},
   "outputs": [
    {
     "name": "stdout",
     "output_type": "stream",
     "text": [
      "How many times you want to curse the beast?: 3\n",
      "abadacadabra! 2 times left\n",
      "abadacadabra! 1 times left\n",
      "abadacadabra! 0 times left\n",
      "curse complete!\n"
     ]
    }
   ],
   "source": [
    "times=int(input('How many times you want to curse the beast?: '))\n",
    "\n",
    "def recurse_beast(a):\n",
    "    if a==0:\n",
    "        print('curse complete!')\n",
    "    else:\n",
    "        print('abadacadabra! %d times left' %(a-1))\n",
    "        recurse_beast(a-1)\n",
    "\n",
    "recurse_beast(times)"
   ]
  },
  {
   "cell_type": "code",
   "execution_count": 1,
   "metadata": {},
   "outputs": [],
   "source": [
    "## File I/O\n",
    "\n",
    "f=open('newfile.txt','w')\n",
    "f.close()\n",
    "\n"
   ]
  },
  {
   "cell_type": "code",
   "execution_count": 2,
   "metadata": {},
   "outputs": [],
   "source": [
    "f=open('newfile.txt','a')\n",
    "for i in range(1,10+1):\n",
    "    txt='line %d \\n'%i\n",
    "    f.write(txt)\n",
    "f.close()"
   ]
  },
  {
   "cell_type": "code",
   "execution_count": 3,
   "metadata": {},
   "outputs": [
    {
     "name": "stdout",
     "output_type": "stream",
     "text": [
      "line 1 \n",
      "\n"
     ]
    }
   ],
   "source": [
    "f=open('newfile.txt','r')\n",
    "txt=f.readline()\n",
    "print(txt)\n",
    "f.close()"
   ]
  },
  {
   "cell_type": "code",
   "execution_count": 4,
   "metadata": {},
   "outputs": [
    {
     "name": "stdout",
     "output_type": "stream",
     "text": [
      "line 1 \n",
      "\n",
      "line 2 \n",
      "\n",
      "line 3 \n",
      "\n",
      "line 4 \n",
      "\n",
      "line 5 \n",
      "\n",
      "line 6 \n",
      "\n",
      "line 7 \n",
      "\n",
      "line 8 \n",
      "\n",
      "line 9 \n",
      "\n",
      "line 10 \n",
      "\n"
     ]
    }
   ],
   "source": [
    "f=open('newfile.txt','r')\n",
    "while True:\n",
    "    txt=f.readline()\n",
    "    if not txt:\n",
    "        break\n",
    "    print(txt)\n",
    "f.close()"
   ]
  },
  {
   "cell_type": "code",
   "execution_count": 5,
   "metadata": {},
   "outputs": [
    {
     "name": "stdout",
     "output_type": "stream",
     "text": [
      "line 1 \n",
      "\n",
      "line 2 \n",
      "\n",
      "line 3 \n",
      "\n",
      "line 4 \n",
      "\n",
      "line 5 \n",
      "\n",
      "line 6 \n",
      "\n",
      "line 7 \n",
      "\n",
      "line 8 \n",
      "\n",
      "line 9 \n",
      "\n",
      "line 10 \n",
      "\n"
     ]
    }
   ],
   "source": [
    "f=open('newfile.txt','r')\n",
    "txts=f.readlines()\n",
    "for txt in txts:\n",
    "    print(txt)\n",
    "f.close()"
   ]
  },
  {
   "cell_type": "code",
   "execution_count": 6,
   "metadata": {},
   "outputs": [],
   "source": [
    "f=open('newfile.txt','a')\n",
    "for i in range(11,20+1):\n",
    "    txt='line %d \\n' %i\n",
    "    f.write(txt)\n",
    "f.close()"
   ]
  },
  {
   "cell_type": "code",
   "execution_count": 11,
   "metadata": {},
   "outputs": [
    {
     "name": "stdout",
     "output_type": "stream",
     "text": [
      "Type some number: #@!%@#\n",
      "Number plz!\n"
     ]
    }
   ],
   "source": [
    "# error handle\n",
    "try:\n",
    "    some_input = int(input('Type some number: '))\n",
    "except ValueError:\n",
    "    print('Number plz!')\n"
   ]
  },
  {
   "cell_type": "code",
   "execution_count": 12,
   "metadata": {
    "collapsed": true
   },
   "outputs": [],
   "source": [
    "# pass 붙이는 습관 해주자\n",
    "\n",
    "try:\n",
    "    pass\n",
    "except:\n",
    "    pass"
   ]
  },
  {
   "cell_type": "code",
   "execution_count": 14,
   "metadata": {},
   "outputs": [
    {
     "name": "stdout",
     "output_type": "stream",
     "text": [
      "Type some number: 안녀ㅕㅇ\n",
      "Number plz!\n",
      "invalid literal for int() with base 10: '안녀ㅕㅇ'\n"
     ]
    }
   ],
   "source": [
    "try:\n",
    "    some_input = int(input('Type some number: '))\n",
    "except ValueError as e:\n",
    "    print('Number plz!')\n",
    "    print(e)"
   ]
  },
  {
   "cell_type": "code",
   "execution_count": 18,
   "metadata": {},
   "outputs": [],
   "source": [
    "try:\n",
    "    f=open('errorffile.txt','r')\n",
    "except FileNotFoundError as e:\n",
    "    print(e)\n",
    "else:\n",
    "    txt=f.read()\n",
    "    f.close()"
   ]
  },
  {
   "cell_type": "code",
   "execution_count": 25,
   "metadata": {},
   "outputs": [
    {
     "name": "stdout",
     "output_type": "stream",
     "text": [
      "Enter the number: 4910\n",
      "4910\n"
     ]
    }
   ],
   "source": [
    "try:\n",
    "    a=int(input('Enter the number: '))\n",
    "except ValueError :\n",
    "    print('Number!')\n",
    "else:\n",
    "    print(a)"
   ]
  },
  {
   "cell_type": "code",
   "execution_count": null,
   "metadata": {
    "collapsed": true
   },
   "outputs": [],
   "source": [
    "#hackerrank.com"
   ]
  }
 ],
 "metadata": {
  "kernelspec": {
   "display_name": "Python 3",
   "language": "python",
   "name": "python3"
  },
  "language_info": {
   "codemirror_mode": {
    "name": "ipython",
    "version": 3
   },
   "file_extension": ".py",
   "mimetype": "text/x-python",
   "name": "python",
   "nbconvert_exporter": "python",
   "pygments_lexer": "ipython3",
   "version": "3.6.2"
  }
 },
 "nbformat": 4,
 "nbformat_minor": 2
}
