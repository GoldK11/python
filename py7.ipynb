{
 "cells": [
  {
   "cell_type": "code",
   "execution_count": 2,
   "metadata": {},
   "outputs": [
    {
     "name": "stdout",
     "output_type": "stream",
     "text": [
      "x: 20 in change_value\n",
      "x: 10 in change_value\n"
     ]
    }
   ],
   "source": [
    "# call by object reference, \n",
    "#call by assignment\n",
    "\n",
    "def change_value(x,val):\n",
    "    x=val\n",
    "    print('x: {} in change_value'.format(x))\n",
    "    \n",
    "x=10\n",
    "\n",
    "change_value(x,20)\n",
    "\n",
    "print('x: {} in change_value'.format(x))\n"
   ]
  },
  {
   "cell_type": "code",
   "execution_count": 5,
   "metadata": {},
   "outputs": [
    {
     "name": "stdout",
     "output_type": "stream",
     "text": [
      "['cat', 2, 3, 4]\n",
      "['cat', 2, 3, 4]\n"
     ]
    }
   ],
   "source": [
    "def change_value2(li,idx,val):\n",
    "    li[idx] = val\n",
    "    print(li)\n",
    "    \n",
    "li=[1,2,3,4]\n",
    "\n",
    "change_value2(li,0,'cat')\n",
    "\n",
    "print(li)\n",
    "\n"
   ]
  },
  {
   "cell_type": "code",
   "execution_count": 9,
   "metadata": {},
   "outputs": [
    {
     "name": "stdout",
     "output_type": "stream",
     "text": [
      "['cat', 2, 3, 4]\n",
      "[1, 2, 3, 4]\n"
     ]
    }
   ],
   "source": [
    "# neither 'call by value' nor 'call by reference'\n",
    "\n",
    "# mutable 은 다 변경 가능한가? (NO)\n",
    "\n",
    "def change_value2(li):\n",
    "    li=['cat',2,3,4]\n",
    "    print(li)\n",
    "    \n",
    "li=[1,2,3,4]\n",
    "\n",
    "change_value2(li)\n",
    "\n",
    "print(li)\n",
    "\n",
    "\n",
    "#>> 위에는 원래 list의 idx에 접근해 새로운 list를 만들지 않고 요소만 바꿔 원래 리스트도 변화가 있었다면\n",
    "# 이번엔 아예 새 리스트를 할당했기 때문에 새로운 리스트가 만들어져서 원래 리스트는 변화가 없다."
   ]
  },
  {
   "cell_type": "code",
   "execution_count": 11,
   "metadata": {},
   "outputs": [
    {
     "name": "stdout",
     "output_type": "stream",
     "text": [
      "abcde\n",
      "zzzzzz\n"
     ]
    }
   ],
   "source": [
    "def change_value3(s):\n",
    "    s='abcde'\n",
    "    print(s)\n",
    "    \n",
    "s='zzzzzz'\n",
    "\n",
    "change_value3(s)\n",
    "print(s)"
   ]
  },
  {
   "cell_type": "code",
   "execution_count": 23,
   "metadata": {
    "collapsed": true
   },
   "outputs": [],
   "source": [
    "# reference count를 알아보자\n",
    "\n",
    "import sys"
   ]
  },
  {
   "cell_type": "code",
   "execution_count": 24,
   "metadata": {
    "collapsed": true
   },
   "outputs": [],
   "source": [
    "s='I am cat'"
   ]
  },
  {
   "cell_type": "code",
   "execution_count": 25,
   "metadata": {},
   "outputs": [
    {
     "data": {
      "text/plain": [
       "2"
      ]
     },
     "execution_count": 25,
     "metadata": {},
     "output_type": "execute_result"
    }
   ],
   "source": [
    "sys.getrefcount(s)"
   ]
  },
  {
   "cell_type": "code",
   "execution_count": 26,
   "metadata": {},
   "outputs": [],
   "source": [
    "b=s"
   ]
  },
  {
   "cell_type": "code",
   "execution_count": 27,
   "metadata": {},
   "outputs": [
    {
     "data": {
      "text/plain": [
       "3"
      ]
     },
     "execution_count": 27,
     "metadata": {},
     "output_type": "execute_result"
    }
   ],
   "source": [
    "sys.getrefcount(s)"
   ]
  },
  {
   "cell_type": "code",
   "execution_count": 31,
   "metadata": {},
   "outputs": [
    {
     "name": "stdout",
     "output_type": "stream",
     "text": [
      "[10, 2, 3, 4]\n",
      "[10, 2, 3, 4]\n"
     ]
    }
   ],
   "source": [
    "# mutable\n",
    "\n",
    "def func(l):\n",
    "    l[0]=10\n",
    "    print(l)\n",
    "    \n",
    "l=[1,2,3,4]\n",
    "func(l)\n",
    "\n",
    "print(l)\n"
   ]
  },
  {
   "cell_type": "code",
   "execution_count": 32,
   "metadata": {},
   "outputs": [
    {
     "name": "stdout",
     "output_type": "stream",
     "text": [
      "[10, 2, 3, 4]\n",
      "[1, 2, 3, 4]\n"
     ]
    }
   ],
   "source": [
    "def func(l):\n",
    "    l=[10,2,3,4]\n",
    "    print(l)\n",
    "    \n",
    "l=[1,2,3,4]\n",
    "func(l)\n",
    "print(l)"
   ]
  },
  {
   "cell_type": "code",
   "execution_count": null,
   "metadata": {
    "collapsed": true
   },
   "outputs": [],
   "source": [
    "def func(a):\n",
    "    a=20\n",
    "x=10\n",
    "func(x)"
   ]
  }
 ],
 "metadata": {
  "kernelspec": {
   "display_name": "Python 3",
   "language": "python",
   "name": "python3"
  },
  "language_info": {
   "codemirror_mode": {
    "name": "ipython",
    "version": 3
   },
   "file_extension": ".py",
   "mimetype": "text/x-python",
   "name": "python",
   "nbconvert_exporter": "python",
   "pygments_lexer": "ipython3",
   "version": "3.6.2"
  }
 },
 "nbformat": 4,
 "nbformat_minor": 2
}
