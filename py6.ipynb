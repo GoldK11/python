{
 "cells": [
  {
   "cell_type": "code",
   "execution_count": null,
   "metadata": {
    "collapsed": true
   },
   "outputs": [],
   "source": [
    "# 오늘 배울 function\n",
    "# 1. map\n",
    "# 2. filter\n",
    "# 3. reduce\n",
    "# 4. laze evaluation 게으른 연산\n",
    "# 5. decorator"
   ]
  },
  {
   "cell_type": "code",
   "execution_count": 1,
   "metadata": {},
   "outputs": [
    {
     "name": "stdout",
     "output_type": "stream",
     "text": [
      "1, 2, 3, 4, \n",
      "a b c d e \n",
      "{'a': 1, 'b': 2, 'c': 3, 'd': 4}\n",
      "{'a': 1, 'b': 2, 'c': 3, 'd': 4}\n"
     ]
    }
   ],
   "source": [
    "\n",
    "# iterable object (순회 가능한 객체) == for 문으로 돌릴 수 있는 객체\n",
    "# ex) string, list, tuple, dictionary\n",
    "# 얘네는 for문으로 돌릴 때 iterator 로 변환된다 iter()안에 넣어도 iterator로 변환\n",
    "\n",
    "l=[1,2,3,4]\n",
    "for i in l:\n",
    "    print(i,end=', ')\n",
    "print()\n",
    "\n",
    "s='abcde'\n",
    "for i in s:\n",
    "    print(i,end=' ')\n",
    "print()\n",
    "\n",
    "# dictionary comprehension    \n",
    "key = ('a','b','c','d')\n",
    "value = [1,2,3,4]\n",
    "dic = { k:v for k,v in zip(key,value)}\n",
    "print(dic)\n",
    "\n",
    "# zip & dict\n",
    "dic_dict=dict(zip(key,value))\n",
    "print(dic_dict)"
   ]
  },
  {
   "cell_type": "code",
   "execution_count": 2,
   "metadata": {},
   "outputs": [
    {
     "name": "stdout",
     "output_type": "stream",
     "text": [
      "a\n",
      "1\n",
      "b\n",
      "2\n",
      "c\n",
      "3\n"
     ]
    }
   ],
   "source": [
    "dic1={'a':1,'b':2,'c':3}\n",
    "for k,v in dic1.items():\n",
    "    print(k)\n",
    "    print(v)\n",
    "    "
   ]
  },
  {
   "cell_type": "code",
   "execution_count": 3,
   "metadata": {
    "collapsed": true
   },
   "outputs": [],
   "source": [
    "ll=iter(l)"
   ]
  },
  {
   "cell_type": "code",
   "execution_count": 4,
   "metadata": {},
   "outputs": [
    {
     "data": {
      "text/plain": [
       "<list_iterator at 0xced40ba320>"
      ]
     },
     "execution_count": 4,
     "metadata": {},
     "output_type": "execute_result"
    }
   ],
   "source": [
    "ll"
   ]
  },
  {
   "cell_type": "code",
   "execution_count": 5,
   "metadata": {
    "collapsed": true
   },
   "outputs": [],
   "source": [
    "# map\n",
    "\n",
    "def mul10(x):\n",
    "    return x*10\n",
    "li=[1,2,3,4]\n",
    "m=map(mul10, li)"
   ]
  },
  {
   "cell_type": "code",
   "execution_count": 6,
   "metadata": {},
   "outputs": [
    {
     "data": {
      "text/plain": [
       "<map at 0xced40b3588>"
      ]
     },
     "execution_count": 6,
     "metadata": {},
     "output_type": "execute_result"
    }
   ],
   "source": [
    "m"
   ]
  },
  {
   "cell_type": "code",
   "execution_count": 7,
   "metadata": {},
   "outputs": [
    {
     "data": {
      "text/plain": [
       "10"
      ]
     },
     "execution_count": 7,
     "metadata": {},
     "output_type": "execute_result"
    }
   ],
   "source": [
    "next(m)"
   ]
  },
  {
   "cell_type": "code",
   "execution_count": 8,
   "metadata": {
    "scrolled": true
   },
   "outputs": [
    {
     "data": {
      "text/plain": [
       "20"
      ]
     },
     "execution_count": 8,
     "metadata": {},
     "output_type": "execute_result"
    }
   ],
   "source": [
    "next(m)"
   ]
  },
  {
   "cell_type": "code",
   "execution_count": 9,
   "metadata": {},
   "outputs": [
    {
     "data": {
      "text/plain": [
       "30"
      ]
     },
     "execution_count": 9,
     "metadata": {},
     "output_type": "execute_result"
    }
   ],
   "source": [
    "next(m)"
   ]
  },
  {
   "cell_type": "code",
   "execution_count": 10,
   "metadata": {
    "scrolled": true
   },
   "outputs": [
    {
     "data": {
      "text/plain": [
       "40"
      ]
     },
     "execution_count": 10,
     "metadata": {},
     "output_type": "execute_result"
    }
   ],
   "source": [
    "next(m)"
   ]
  },
  {
   "cell_type": "code",
   "execution_count": 11,
   "metadata": {},
   "outputs": [
    {
     "name": "stdout",
     "output_type": "stream",
     "text": [
      "10\n",
      "20\n",
      "30\n",
      "40\n"
     ]
    }
   ],
   "source": [
    "m=map(mul10, li)\n",
    "for i in m:\n",
    "    print(i)"
   ]
  },
  {
   "cell_type": "code",
   "execution_count": 12,
   "metadata": {},
   "outputs": [
    {
     "name": "stdout",
     "output_type": "stream",
     "text": [
      "20\n",
      "40\n",
      "60\n",
      "80\n"
     ]
    }
   ],
   "source": [
    "# function 새로 하나 만들기 귀찮고 메모리 아까우니까 lambda 쓰자\n",
    "\n",
    "lis=[2,4,6,8]\n",
    "m=map(lambda x:x*10,lis)\n",
    "for i in m:\n",
    "    print(i)"
   ]
  },
  {
   "cell_type": "code",
   "execution_count": 13,
   "metadata": {},
   "outputs": [
    {
     "data": {
      "text/plain": [
       "{'a': 1, 'b': 2, 'c': 3, 'd': 4}"
      ]
     },
     "execution_count": 13,
     "metadata": {},
     "output_type": "execute_result"
    }
   ],
   "source": [
    "dic"
   ]
  },
  {
   "cell_type": "code",
   "execution_count": 14,
   "metadata": {},
   "outputs": [
    {
     "data": {
      "text/plain": [
       "dict_keys(['a', 'b', 'c', 'd'])"
      ]
     },
     "execution_count": 14,
     "metadata": {},
     "output_type": "execute_result"
    }
   ],
   "source": [
    "dic.keys()"
   ]
  },
  {
   "cell_type": "code",
   "execution_count": 15,
   "metadata": {},
   "outputs": [
    {
     "data": {
      "text/plain": [
       "['a', 'b', 'c', 'd']"
      ]
     },
     "execution_count": 15,
     "metadata": {},
     "output_type": "execute_result"
    }
   ],
   "source": [
    "key_list=list(dic.keys())\n",
    "key_list"
   ]
  },
  {
   "cell_type": "code",
   "execution_count": 16,
   "metadata": {
    "collapsed": true
   },
   "outputs": [],
   "source": [
    "# keys(), values(), items() : VIEW 객체\n",
    "# >> 동적이다\n",
    "\n",
    "dic['e']=5"
   ]
  },
  {
   "cell_type": "code",
   "execution_count": 17,
   "metadata": {},
   "outputs": [
    {
     "data": {
      "text/plain": [
       "['a', 'b', 'c', 'd']"
      ]
     },
     "execution_count": 17,
     "metadata": {},
     "output_type": "execute_result"
    }
   ],
   "source": [
    "key_list # e를 추가했는데 업뎃 해주기 전까진 모른다"
   ]
  },
  {
   "cell_type": "code",
   "execution_count": 18,
   "metadata": {},
   "outputs": [
    {
     "data": {
      "text/plain": [
       "dict_keys(['a', 'b', 'c', 'd', 'e'])"
      ]
     },
     "execution_count": 18,
     "metadata": {},
     "output_type": "execute_result"
    }
   ],
   "source": [
    "dic.keys()  # 따로 추가 안해줘도 알아서 추가되어 나타난다"
   ]
  },
  {
   "cell_type": "code",
   "execution_count": 19,
   "metadata": {
    "collapsed": true
   },
   "outputs": [],
   "source": [
    "#게으른 연산\n",
    "#필요할 때 마다 연산한다\n",
    "\n",
    "def func2(a):\n",
    "    print('func is executed')\n",
    "    return a**2\n",
    "\n",
    "l2=[1,2,3,4]\n",
    "\n",
    "m=map(func2,l2) # 요렇게 map으로 함수와 정의역을 묶어놓고"
   ]
  },
  {
   "cell_type": "code",
   "execution_count": 20,
   "metadata": {},
   "outputs": [
    {
     "name": "stdout",
     "output_type": "stream",
     "text": [
      "func is executed\n"
     ]
    },
    {
     "data": {
      "text/plain": [
       "1"
      ]
     },
     "execution_count": 20,
     "metadata": {},
     "output_type": "execute_result"
    }
   ],
   "source": [
    "next(m)   # 이거 하다가 "
   ]
  },
  {
   "cell_type": "code",
   "execution_count": 21,
   "metadata": {},
   "outputs": [
    {
     "name": "stdout",
     "output_type": "stream",
     "text": [
      "I am laze\n"
     ]
    }
   ],
   "source": [
    "print('I am laze') #중간에 딴짓을 하고"
   ]
  },
  {
   "cell_type": "code",
   "execution_count": 22,
   "metadata": {},
   "outputs": [
    {
     "name": "stdout",
     "output_type": "stream",
     "text": [
      "func is executed\n"
     ]
    },
    {
     "data": {
      "text/plain": [
       "4"
      ]
     },
     "execution_count": 22,
     "metadata": {},
     "output_type": "execute_result"
    }
   ],
   "source": [
    "next(m)  #다시 얘 연산해도 된다\n",
    "\n",
    "# 무슨 이점? > 한번에 다 실행한 결과값을 어디다 저장해 메모리를 왕창 잡아먹는게 아니라\n",
    "# 필요할 때 필요한 것만 꺼내와 연산한다.\n",
    "# 즉 function의 연산 시기를 하나하나 내가 맘대로 설정할 수 있다.\n"
   ]
  },
  {
   "cell_type": "code",
   "execution_count": 35,
   "metadata": {},
   "outputs": [],
   "source": [
    "# filter \n",
    "# 조건의 T/F 를 판별해서 거름\n",
    "\n",
    "li=[2,-4,5,-3]\n",
    "result=filter(lambda x:x>0,li)\n"
   ]
  },
  {
   "cell_type": "code",
   "execution_count": 36,
   "metadata": {},
   "outputs": [
    {
     "data": {
      "text/plain": [
       "<filter at 0xced432c0b8>"
      ]
     },
     "execution_count": 36,
     "metadata": {},
     "output_type": "execute_result"
    }
   ],
   "source": [
    "result\n"
   ]
  },
  {
   "cell_type": "code",
   "execution_count": 37,
   "metadata": {},
   "outputs": [
    {
     "name": "stdout",
     "output_type": "stream",
     "text": [
      "2\n",
      "5\n"
     ]
    }
   ],
   "source": [
    "for i in result:\n",
    "    print(i)"
   ]
  },
  {
   "cell_type": "code",
   "execution_count": 40,
   "metadata": {},
   "outputs": [
    {
     "name": "stdout",
     "output_type": "stream",
     "text": [
      "a>0\n"
     ]
    }
   ],
   "source": [
    "#삼(3)항 연산자\n",
    "\n",
    "a=10\n",
    "print('a>0' if a>0 else 'a<0' )\n",
    "#문법 : '참일 때 값' if 조건 else '거짓일 때 값"
   ]
  },
  {
   "cell_type": "code",
   "execution_count": 54,
   "metadata": {},
   "outputs": [
    {
     "name": "stdout",
     "output_type": "stream",
     "text": [
      "a는 0보다 크다\n"
     ]
    }
   ],
   "source": [
    "a=5\n",
    "print('a는 0보다 크다' if a>0 else ('a는 0과 같다' if a==0 else 'a는 0보다 작다'))"
   ]
  },
  {
   "cell_type": "code",
   "execution_count": 69,
   "metadata": {},
   "outputs": [
    {
     "name": "stdout",
     "output_type": "stream",
     "text": [
      "양수\n",
      "0\n",
      "양수\n",
      "음수\n"
     ]
    }
   ],
   "source": [
    "li=[2,0,5,-7]\n",
    "for a in li:\n",
    "    print('양수' if a>0 else('0' if a==0 else '음수'))\n"
   ]
  },
  {
   "cell_type": "code",
   "execution_count": 62,
   "metadata": {},
   "outputs": [
    {
     "data": {
      "text/plain": [
       "['양수', '0', '양수', '음수']"
      ]
     },
     "execution_count": 62,
     "metadata": {},
     "output_type": "execute_result"
    }
   ],
   "source": [
    "li=[2,0,5,-7]\n",
    "result = list(map(lambda a:\n",
    "             '양수' if a>0\n",
    "             else('음수' if a<0\n",
    "                 else '0')\n",
    "             ,li))\n",
    "result"
   ]
  },
  {
   "cell_type": "code",
   "execution_count": 70,
   "metadata": {},
   "outputs": [
    {
     "data": {
      "text/plain": [
       "['H', 'e', 'l', 'l', 'o']"
      ]
     },
     "execution_count": 70,
     "metadata": {},
     "output_type": "execute_result"
    }
   ],
   "source": [
    "s='Hello'\n",
    "list(s)"
   ]
  },
  {
   "cell_type": "code",
   "execution_count": 98,
   "metadata": {},
   "outputs": [
    {
     "data": {
      "text/plain": [
       "4"
      ]
     },
     "execution_count": 98,
     "metadata": {},
     "output_type": "execute_result"
    }
   ],
   "source": [
    "# 양수만 뽑아 제곱하는 값들만 모은 값 filter 와 map 사용\n",
    "# result=[4,25]\n",
    "\n",
    "li=[2,5,-6,0,-7]\n",
    "result=map(lambda a: a**2,filter(lambda x:x>0,li))\n",
    "next(result)\n"
   ]
  },
  {
   "cell_type": "code",
   "execution_count": 99,
   "metadata": {},
   "outputs": [
    {
     "data": {
      "text/plain": [
       "[4, 25]"
      ]
     },
     "execution_count": 99,
     "metadata": {},
     "output_type": "execute_result"
    }
   ],
   "source": [
    "result2=[i**2 for i in li if i>0]\n",
    "result2"
   ]
  },
  {
   "cell_type": "code",
   "execution_count": 100,
   "metadata": {},
   "outputs": [
    {
     "data": {
      "text/plain": [
       "25"
      ]
     },
     "execution_count": 100,
     "metadata": {},
     "output_type": "execute_result"
    }
   ],
   "source": [
    "next(result)"
   ]
  },
  {
   "cell_type": "code",
   "execution_count": 101,
   "metadata": {
    "collapsed": true
   },
   "outputs": [],
   "source": [
    "# map은 정의역에 몇개의 인자든 받을 수 있당~~~!!!\n",
    "\n",
    "a=[1,2,3,4]\n",
    "b=[2,3,4,5]\n",
    "result=map(lambda x,y: x+y, a,b)"
   ]
  },
  {
   "cell_type": "code",
   "execution_count": 103,
   "metadata": {},
   "outputs": [
    {
     "data": {
      "text/plain": [
       "3"
      ]
     },
     "execution_count": 103,
     "metadata": {},
     "output_type": "execute_result"
    }
   ],
   "source": [
    "next(result)"
   ]
  },
  {
   "cell_type": "code",
   "execution_count": 104,
   "metadata": {},
   "outputs": [
    {
     "data": {
      "text/plain": [
       "5"
      ]
     },
     "execution_count": 104,
     "metadata": {},
     "output_type": "execute_result"
    }
   ],
   "source": [
    "next(result)"
   ]
  },
  {
   "cell_type": "code",
   "execution_count": 105,
   "metadata": {},
   "outputs": [
    {
     "data": {
      "text/plain": [
       "7"
      ]
     },
     "execution_count": 105,
     "metadata": {},
     "output_type": "execute_result"
    }
   ],
   "source": [
    "next(result)"
   ]
  },
  {
   "cell_type": "code",
   "execution_count": 106,
   "metadata": {},
   "outputs": [
    {
     "data": {
      "text/plain": [
       "9"
      ]
     },
     "execution_count": 106,
     "metadata": {},
     "output_type": "execute_result"
    }
   ],
   "source": [
    "next(result)"
   ]
  },
  {
   "cell_type": "code",
   "execution_count": 112,
   "metadata": {},
   "outputs": [
    {
     "data": {
      "text/plain": [
       "15"
      ]
     },
     "execution_count": 112,
     "metadata": {},
     "output_type": "execute_result"
    }
   ],
   "source": [
    "#reduce : 줄여나간다\n",
    "# 문법 : from funtools import reduce\n",
    "\n",
    "from functools import reduce\n",
    "\n",
    "li=[1,2,3,4,5]\n",
    "result=reduce(lambda a,b: a+b,li)\n",
    "result"
   ]
  },
  {
   "cell_type": "code",
   "execution_count": 116,
   "metadata": {},
   "outputs": [
    {
     "data": {
      "text/plain": [
       "16"
      ]
     },
     "execution_count": 116,
     "metadata": {},
     "output_type": "execute_result"
    }
   ],
   "source": [
    "# reduce 예제1.  최댓값 산출\n",
    "li=[5,8,-4,16,3,9]\n",
    "result=reduce(lambda a,b: a if a>b else b, li)\n",
    "result"
   ]
  },
  {
   "cell_type": "code",
   "execution_count": 121,
   "metadata": {
    "collapsed": true
   },
   "outputs": [],
   "source": [
    "# {'a':3,'b':2,'c':1}\n",
    "li=['a','b','c','a','b','a']\n",
    "a=li.count('a')\n",
    "dic={}\n",
    "for i in li:\n",
    "    dic[i]=li.count(i)"
   ]
  },
  {
   "cell_type": "code",
   "execution_count": 122,
   "metadata": {},
   "outputs": [
    {
     "data": {
      "text/plain": [
       "{'a': 3, 'b': 2, 'c': 1}"
      ]
     },
     "execution_count": 122,
     "metadata": {},
     "output_type": "execute_result"
    }
   ],
   "source": [
    "dic"
   ]
  },
  {
   "cell_type": "code",
   "execution_count": 125,
   "metadata": {},
   "outputs": [
    {
     "data": {
      "text/plain": [
       "3"
      ]
     },
     "execution_count": 125,
     "metadata": {},
     "output_type": "execute_result"
    }
   ],
   "source": [
    "# dic['a'] 와 dic.get('a')의 차이\n",
    "\n",
    "dic['a']"
   ]
  },
  {
   "cell_type": "code",
   "execution_count": 126,
   "metadata": {},
   "outputs": [
    {
     "data": {
      "text/plain": [
       "3"
      ]
     },
     "execution_count": 126,
     "metadata": {},
     "output_type": "execute_result"
    }
   ],
   "source": [
    "dic.get('a') # 여기까진 문제 없는데 "
   ]
  },
  {
   "cell_type": "code",
   "execution_count": 127,
   "metadata": {},
   "outputs": [
    {
     "ename": "KeyError",
     "evalue": "'d'",
     "output_type": "error",
     "traceback": [
      "\u001b[1;31m---------------------------------------------------------------------------\u001b[0m",
      "\u001b[1;31mKeyError\u001b[0m                                  Traceback (most recent call last)",
      "\u001b[1;32m<ipython-input-127-9e2e4a4df3fe>\u001b[0m in \u001b[0;36m<module>\u001b[1;34m()\u001b[0m\n\u001b[0;32m      1\u001b[0m \u001b[1;31m# 만약 dic에 없는 요소를 불러왔을 때\u001b[0m\u001b[1;33m\u001b[0m\u001b[1;33m\u001b[0m\u001b[0m\n\u001b[0;32m      2\u001b[0m \u001b[1;33m\u001b[0m\u001b[0m\n\u001b[1;32m----> 3\u001b[1;33m \u001b[0mdic\u001b[0m\u001b[1;33m[\u001b[0m\u001b[1;34m'd'\u001b[0m\u001b[1;33m]\u001b[0m\u001b[1;33m\u001b[0m\u001b[0m\n\u001b[0m",
      "\u001b[1;31mKeyError\u001b[0m: 'd'"
     ]
    }
   ],
   "source": [
    "# 만약 dic에 없는 요소를 불러왔을 때\n",
    "\n",
    "dic['d'] # 이 경우엔 에러가 뜨고 끝나버린당"
   ]
  },
  {
   "cell_type": "code",
   "execution_count": 140,
   "metadata": {},
   "outputs": [
    {
     "data": {
      "text/plain": [
       "'None element'"
      ]
     },
     "execution_count": 140,
     "metadata": {},
     "output_type": "execute_result"
    }
   ],
   "source": [
    "dic.get('d','None element') \n",
    "#하지만 얘를 쓰면 없는 값을 불러와도 에러 안뜨고 추가로 다른걸 출력하게 할수도 있다"
   ]
  },
  {
   "cell_type": "code",
   "execution_count": 130,
   "metadata": {},
   "outputs": [
    {
     "data": {
      "text/plain": [
       "50"
      ]
     },
     "execution_count": 130,
     "metadata": {},
     "output_type": "execute_result"
    }
   ],
   "source": [
    "#여기서 더 나아가 없는 요소를 불렀을 때 반환도 하고 그 값도 추가하는 방법인 setdefault\n",
    "#있는 요소일때는 그 값을 반환한다.\n",
    "dic.setdefault('e',50)"
   ]
  },
  {
   "cell_type": "code",
   "execution_count": 131,
   "metadata": {},
   "outputs": [
    {
     "data": {
      "text/plain": [
       "{'a': 3, 'b': 2, 'c': 1, 'e': 50}"
      ]
     },
     "execution_count": 131,
     "metadata": {},
     "output_type": "execute_result"
    }
   ],
   "source": [
    "dic   #dic에 원래 없던 요소인 e를 불렀으니 default값으로 반환하고 dic에 업뎃도 했다"
   ]
  },
  {
   "cell_type": "code",
   "execution_count": 132,
   "metadata": {},
   "outputs": [
    {
     "data": {
      "text/plain": [
       "3"
      ]
     },
     "execution_count": 132,
     "metadata": {},
     "output_type": "execute_result"
    }
   ],
   "source": [
    "dic.setdefault('a',50) #dic에 원래 있던 요소인 a를 불렀으니 그냥 a값을 출력해준당"
   ]
  },
  {
   "cell_type": "code",
   "execution_count": 133,
   "metadata": {
    "scrolled": true
   },
   "outputs": [
    {
     "data": {
      "text/plain": [
       "{'a': 3, 'b': 2, 'c': 1, 'e': 50}"
      ]
     },
     "execution_count": 133,
     "metadata": {},
     "output_type": "execute_result"
    }
   ],
   "source": [
    "dic"
   ]
  },
  {
   "cell_type": "code",
   "execution_count": null,
   "metadata": {
    "collapsed": true
   },
   "outputs": [],
   "source": [
    "#파이썬에서 False로 취급하는 것\n",
    "'''\n",
    "1. []\n",
    "2. {}\n",
    "3. ()\n",
    "4. ''\n",
    "5. None\n",
    "'''"
   ]
  },
  {
   "cell_type": "code",
   "execution_count": 134,
   "metadata": {},
   "outputs": [
    {
     "data": {
      "text/plain": [
       "[1, 2]"
      ]
     },
     "execution_count": 134,
     "metadata": {},
     "output_type": "execute_result"
    }
   ],
   "source": [
    "[1,2] or []"
   ]
  },
  {
   "cell_type": "code",
   "execution_count": 139,
   "metadata": {},
   "outputs": [
    {
     "data": {
      "text/plain": [
       "[3, 4]"
      ]
     },
     "execution_count": 139,
     "metadata": {},
     "output_type": "execute_result"
    }
   ],
   "source": [
    "[] or [3,4]"
   ]
  },
  {
   "cell_type": "code",
   "execution_count": 136,
   "metadata": {},
   "outputs": [
    {
     "data": {
      "text/plain": [
       "[1, 2]"
      ]
     },
     "execution_count": 136,
     "metadata": {},
     "output_type": "execute_result"
    }
   ],
   "source": [
    "[1,2] or [3,4]"
   ]
  },
  {
   "cell_type": "code",
   "execution_count": 137,
   "metadata": {},
   "outputs": [
    {
     "data": {
      "text/plain": [
       "[3, 4]"
      ]
     },
     "execution_count": 137,
     "metadata": {},
     "output_type": "execute_result"
    }
   ],
   "source": [
    "[1,2] and [3,4]"
   ]
  },
  {
   "cell_type": "code",
   "execution_count": 138,
   "metadata": {},
   "outputs": [
    {
     "data": {
      "text/plain": [
       "[]"
      ]
     },
     "execution_count": 138,
     "metadata": {},
     "output_type": "execute_result"
    }
   ],
   "source": [
    "[1,2] and []"
   ]
  },
  {
   "cell_type": "code",
   "execution_count": 145,
   "metadata": {
    "collapsed": true
   },
   "outputs": [],
   "source": [
    "# {'a':3,'b':2,'c':1}\n",
    "li=['a','b','c','a','b','a']\n"
   ]
  },
  {
   "cell_type": "code",
   "execution_count": 152,
   "metadata": {},
   "outputs": [
    {
     "data": {
      "text/plain": [
       "{'a': 3, 'b': 2, 'c': 3}"
      ]
     },
     "execution_count": 152,
     "metadata": {},
     "output_type": "execute_result"
    }
   ],
   "source": [
    "#파이썬의 함수는 expression(식) >> 반드시 무언가를 리턴한다\n",
    "dic={'a':3,'b':2}\n",
    "\n",
    "dic.update({'c':3}) or dic"
   ]
  },
  {
   "cell_type": "code",
   "execution_count": 186,
   "metadata": {},
   "outputs": [
    {
     "data": {
      "text/plain": [
       "60"
      ]
     },
     "execution_count": 186,
     "metadata": {},
     "output_type": "execute_result"
    }
   ],
   "source": [
    "# 초기값\n",
    "li_example=[1,2,3,4]\n",
    "res=reduce(lambda a,b:a+b,li_example,50)\n",
    "res"
   ]
  },
  {
   "cell_type": "code",
   "execution_count": 31,
   "metadata": {},
   "outputs": [],
   "source": [
    "# reduce 예제 !!\n",
    "# {'a':3,'b':2,'c':1}\n",
    "\n",
    "from functools import reduce\n",
    "\n",
    "li=['a','b','c','a','b','a','d','c']\n",
    "\n",
    "result = reduce(lambda dic,ch : dic.update({ch:dic.get(ch,0)+1}) or dic ,li, {})\n"
   ]
  },
  {
   "cell_type": "code",
   "execution_count": 32,
   "metadata": {},
   "outputs": [
    {
     "data": {
      "text/plain": [
       "{'a': 3, 'b': 2, 'c': 2, 'd': 1}"
      ]
     },
     "execution_count": 32,
     "metadata": {},
     "output_type": "execute_result"
    }
   ],
   "source": [
    "result"
   ]
  },
  {
   "cell_type": "code",
   "execution_count": 25,
   "metadata": {
    "collapsed": true
   },
   "outputs": [],
   "source": [
    "# decorator 할거야ㅏ아아아아아ㅏ아아ㅏㅏ~~!~~~!!!"
   ]
  },
  {
   "cell_type": "code",
   "execution_count": 37,
   "metadata": {},
   "outputs": [
    {
     "name": "stdout",
     "output_type": "stream",
     "text": [
      "Things\n"
     ]
    },
    {
     "data": {
      "text/plain": [
       "8"
      ]
     },
     "execution_count": 37,
     "metadata": {},
     "output_type": "execute_result"
    }
   ],
   "source": [
    "def outer(func):\n",
    "    def inner(*args,**kwargs):\n",
    "        print('Things')\n",
    "        return func(*args,**kwargs)\n",
    "    return inner\n",
    "\n",
    "@outer    # adder 라는 함수에 outer라는 함수의 기능을 추가한다\n",
    "def adder(a,b):\n",
    "    return a+b\n",
    "c=adder(5,3)\n",
    "c"
   ]
  },
  {
   "cell_type": "code",
   "execution_count": 38,
   "metadata": {},
   "outputs": [
    {
     "name": "stdout",
     "output_type": "stream",
     "text": [
      "call number: 1\n",
      "5\n",
      "call number: 2\n",
      "7\n",
      "call number: 3\n",
      "9\n",
      "call number: 4\n",
      "11\n",
      "call number: 5\n",
      "13\n",
      "call number: 6\n",
      "15\n",
      "call number: 7\n",
      "17\n",
      "call number: 8\n",
      "19\n",
      "call number: 9\n",
      "21\n",
      "call number: 10\n",
      "23\n"
     ]
    }
   ],
   "source": [
    "# 추가하고 싶은 기능: 함수의 호출 횟수\n",
    "\n",
    "def call_count(func):\n",
    "    count=0\n",
    "    def inner(*args,**kwargs):\n",
    "        nonlocal count\n",
    "        count = count + 1\n",
    "        print('call number: %d'%count)\n",
    "        return func(*args,**kwargs)\n",
    "    return inner\n",
    "\n",
    "@call_count\n",
    "def adder(a,b):\n",
    "    return a+b\n",
    "\n",
    "for i in range(1,11):\n",
    "    a=i+1\n",
    "    b=i+2\n",
    "    print(adder(a,b))\n",
    "        "
   ]
  },
  {
   "cell_type": "code",
   "execution_count": 48,
   "metadata": {},
   "outputs": [
    {
     "name": "stdout",
     "output_type": "stream",
     "text": [
      "elapsed time: 3 sec\n"
     ]
    },
    {
     "data": {
      "text/plain": [
       "1347"
      ]
     },
     "execution_count": 48,
     "metadata": {},
     "output_type": "execute_result"
    }
   ],
   "source": [
    "import time\n",
    "\n",
    "def timer(func):\n",
    "    def inner(*args,**kwargs):\n",
    "        start=time.time()   # 함수 실행 시작시간을 start에 저장한다\n",
    "        ret=func(*args,**kwargs) # 함수를 실행하고 그 결과 값을 ret에다 저장해놓은다음\n",
    "        elapsed=time.time()-start     # 함수의 실행시간(함수 실행이 끝난시간-시작시간)을 계산해 elapsed라는 변수에 저장하고\n",
    "        print('elapsed time: %d sec'%elapsed) # 함수 실행시간 elapsed를 프린트해주고\n",
    "        return ret #함수의 실행값을 리턴해주고 함수를 종료한다\n",
    "    return inner\n",
    "\n",
    "@timer  #adder함수를 실행할건데 그 함수의 실행시간을 재주는 함수도 같이 실행할거야 >timer(func)의 func에 adder함수가 들어간다 \n",
    "#adder=timer(adder) 라는 뜻\n",
    "def adder(a,b): \n",
    "    time.sleep(3)\n",
    "    return a+b\n",
    "            \n",
    "adder(445,902)"
   ]
  },
  {
   "cell_type": "code",
   "execution_count": 46,
   "metadata": {},
   "outputs": [
    {
     "data": {
      "text/plain": [
       "2.0004329681396484"
      ]
     },
     "execution_count": 46,
     "metadata": {},
     "output_type": "execute_result"
    }
   ],
   "source": [
    "import time\n",
    "\n",
    "# time.sleep(n) : n초 멈춤\n",
    "# time.time : epoch(에포치) \n",
    "\n",
    "start=time.time()\n",
    "time.sleep(2)\n",
    "elapsed = time.time()-start\n",
    "\n",
    "elapsed\n",
    "\n"
   ]
  },
  {
   "cell_type": "code",
   "execution_count": 56,
   "metadata": {},
   "outputs": [
    {
     "name": "stdout",
     "output_type": "stream",
     "text": [
      "inner_timer\n",
      "call number: 1\n",
      "adder\n",
      "elapsed time: 0 sec\n"
     ]
    },
    {
     "data": {
      "text/plain": [
       "8"
      ]
     },
     "execution_count": 56,
     "metadata": {},
     "output_type": "execute_result"
    }
   ],
   "source": [
    "# 치명적 오류!!\n",
    "\n",
    "def call_count(func):\n",
    "    count=0\n",
    "    def inner_count(*args,**kwargs):\n",
    "        print(func.__name__)\n",
    "        nonlocal count\n",
    "        count = count + 1\n",
    "        print('call number: %d'%count)\n",
    "        return func(*args,**kwargs)\n",
    "    return inner_count\n",
    "\n",
    "def timer(func):\n",
    "    def inner_timer(*args,**kwargs):\n",
    "        print(func.__name__)\n",
    "        start=time.time()   # 함수 실행 시작시간을 start에 저장한다\n",
    "        ret=func(*args,**kwargs) # 함수를 실행하고 그 결과 값을 ret에다 저장해놓은다음\n",
    "        elapsed=time.time()-start     # 함수의 실행시간(함수 실행이 끝난시간-시작시간)을 계산해 elapsed라는 변수에 저장하고\n",
    "        print('elapsed time: %d sec'%elapsed) # 함수 실행시간 elapsed를 프린트해주고\n",
    "        return ret #함수의 실행값을 리턴해주고 함수를 종료한다\n",
    "    return inner_timer\n",
    "\n",
    "\n",
    "@call_count  # 이렇게 중첩할 경우 \n",
    "@timer       # timer는 adder함수를 제대로 받지만 call_count의 경우 adder함수가 아닌 inner_timer 함수를 받게된다\n",
    "def adder(a,b):\n",
    "    return a+b\n",
    "\n",
    "adder(3,5)"
   ]
  },
  {
   "cell_type": "code",
   "execution_count": 55,
   "metadata": {},
   "outputs": [
    {
     "name": "stdout",
     "output_type": "stream",
     "text": [
      "adder\n",
      "call number: 1\n",
      "adder\n",
      "elapsed time: 0 sec\n"
     ]
    },
    {
     "data": {
      "text/plain": [
       "8"
      ]
     },
     "execution_count": 55,
     "metadata": {},
     "output_type": "execute_result"
    }
   ],
   "source": [
    "# 그러므로 wraps를 쓰자\n",
    "from functools import wraps\n",
    "\n",
    "def call_count(func):\n",
    "    count=0\n",
    "    @wraps(func)\n",
    "    def inner_count(*args,**kwargs):\n",
    "        print(func.__name__)\n",
    "        nonlocal count\n",
    "        count = count + 1\n",
    "        print('call number: %d'%count)\n",
    "        return func(*args,**kwargs)\n",
    "    return inner_count\n",
    "\n",
    "import time\n",
    "def timer(func):\n",
    "    @wraps(func)\n",
    "    def inner_timer(*args,**kwargs):\n",
    "        print(func.__name__)\n",
    "        start=time.time()   # 함수 실행 시작시간을 start에 저장한다\n",
    "        ret=func(*args,**kwargs) # 함수를 실행하고 그 결과 값을 ret에다 저장해놓은다음\n",
    "        elapsed=time.time()-start     # 함수의 실행시간(함수 실행이 끝난시간-시작시간)을 계산해 elapsed라는 변수에 저장하고\n",
    "        print('elapsed time: %d sec'%elapsed) # 함수 실행시간 elapsed를 프린트해주고\n",
    "        return ret #함수의 실행값을 리턴해주고 함수를 종료한다\n",
    "    return inner_timer\n",
    "\n",
    "@call_count  # 이렇게 중첩할 경우 \n",
    "@timer       # timer는 adder함수를 제대로 받지만 call_count의 경우 adder함수가 아닌 timer 함수를 받게된다\n",
    "def adder(a,b):\n",
    "    return a+b\n",
    "\n",
    "adder(3,5)\n",
    "        "
   ]
  },
  {
   "cell_type": "code",
   "execution_count": null,
   "metadata": {
    "collapsed": true
   },
   "outputs": [],
   "source": []
  }
 ],
 "metadata": {
  "kernelspec": {
   "display_name": "Python 3",
   "language": "python",
   "name": "python3"
  },
  "language_info": {
   "codemirror_mode": {
    "name": "ipython",
    "version": 3
   },
   "file_extension": ".py",
   "mimetype": "text/x-python",
   "name": "python",
   "nbconvert_exporter": "python",
   "pygments_lexer": "ipython3",
   "version": "3.6.2"
  }
 },
 "nbformat": 4,
 "nbformat_minor": 2
}
